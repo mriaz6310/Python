{
 "cells": [
  {
   "cell_type": "code",
   "execution_count": 1,
   "metadata": {},
   "outputs": [],
   "source": [
    "import pandas as pd"
   ]
  },
  {
   "cell_type": "code",
   "execution_count": 2,
   "metadata": {},
   "outputs": [],
   "source": [
    "parquet_file = '/workspaces/Python/data/kev_catalog.parquet'\n",
    "\n",
    "\n",
    "csv_file = '/workspaces/Python/data/output_file.csv'\n",
    "\n",
    "# Read the Parquet file\n",
    "df = pd.read_parquet(parquet_file)\n",
    "\n",
    "# Convert and save as CSV\n",
    "df.to_csv(csv_file, index=False)"
   ]
  },
  {
   "cell_type": "code",
   "execution_count": 5,
   "metadata": {},
   "outputs": [],
   "source": [
    "\n",
    "parquet_file = '/workspaces/Python/data/simulation-2-14-2024.parquet'\n",
    "\n",
    "\n",
    "csv_file = '/workspaces/Python/data/output_file1.csv'\n",
    "\n",
    "# Read the Parquet file\n",
    "df = pd.read_parquet(parquet_file)\n",
    "\n",
    "# Convert and save as CSV\n",
    "df.to_csv(csv_file, index=False)"
   ]
  },
  {
   "cell_type": "code",
   "execution_count": 6,
   "metadata": {},
   "outputs": [],
   "source": [
    "import pandas as pd\n",
    "data_path = '/workspaces/Python/data/output_file.csv'\n",
    "data = pd.read_csv(data_path)\n",
    "data_cleaned = data.dropna()\n"
   ]
  },
  {
   "cell_type": "code",
   "execution_count": 7,
   "metadata": {},
   "outputs": [
    {
     "name": "stderr",
     "output_type": "stream",
     "text": [
      "/tmp/ipykernel_4778/1449082015.py:2: SettingWithCopyWarning: \n",
      "A value is trying to be set on a copy of a slice from a DataFrame.\n",
      "Try using .loc[row_indexer,col_indexer] = value instead\n",
      "\n",
      "See the caveats in the documentation: https://pandas.pydata.org/pandas-docs/stable/user_guide/indexing.html#returning-a-view-versus-a-copy\n",
      "  data_cleaned[string_columns] = data_cleaned[string_columns].fillna('')\n"
     ]
    }
   ],
   "source": [
    "\n",
    "string_columns = data_cleaned.select_dtypes(include=['object']).columns\n",
    "data_cleaned[string_columns] = data_cleaned[string_columns].fillna('')"
   ]
  },
  {
   "cell_type": "code",
   "execution_count": 8,
   "metadata": {},
   "outputs": [],
   "source": [
    "for col in data_cleaned.columns:\n",
    "    if data_cleaned[col].dtype == 'object':\n",
    "        try:\n",
    "            data_cleaned[col] = pd.to_numeric(data_cleaned[col])\n",
    "        except ValueError:\n",
    "            pass  # Column cannot be converted to numeric, likely it's correctly identified as a string."
   ]
  },
  {
   "cell_type": "code",
   "execution_count": 9,
   "metadata": {},
   "outputs": [
    {
     "name": "stderr",
     "output_type": "stream",
     "text": [
      "/tmp/ipykernel_4778/408743862.py:3: SettingWithCopyWarning: \n",
      "A value is trying to be set on a copy of a slice from a DataFrame.\n",
      "Try using .loc[row_indexer,col_indexer] = value instead\n",
      "\n",
      "See the caveats in the documentation: https://pandas.pydata.org/pandas-docs/stable/user_guide/indexing.html#returning-a-view-versus-a-copy\n",
      "  data_cleaned[col] = pd.to_datetime(data_cleaned[col], errors='coerce')  # Coerce errors to NaT for invalid dates\n",
      "/tmp/ipykernel_4778/408743862.py:3: SettingWithCopyWarning: \n",
      "A value is trying to be set on a copy of a slice from a DataFrame.\n",
      "Try using .loc[row_indexer,col_indexer] = value instead\n",
      "\n",
      "See the caveats in the documentation: https://pandas.pydata.org/pandas-docs/stable/user_guide/indexing.html#returning-a-view-versus-a-copy\n",
      "  data_cleaned[col] = pd.to_datetime(data_cleaned[col], errors='coerce')  # Coerce errors to NaT for invalid dates\n"
     ]
    }
   ],
   "source": [
    "date_columns = ['dateAdded', 'dueDate']\n",
    "for col in date_columns:\n",
    "    data_cleaned[col] = pd.to_datetime(data_cleaned[col], errors='coerce')  # Coerce errors to NaT for invalid dates"
   ]
  },
  {
   "cell_type": "code",
   "execution_count": 10,
   "metadata": {},
   "outputs": [
    {
     "data": {
      "text/plain": [
       "(cveID                                 object\n",
       " vendorProject                         object\n",
       " product                               object\n",
       " vulnerabilityName                     object\n",
       " dateAdded                     datetime64[ns]\n",
       " shortDescription                      object\n",
       " requiredAction                        object\n",
       " dueDate                       datetime64[ns]\n",
       " knownRansomwareCampaignUse            object\n",
       " notes                                 object\n",
       " dtype: object,\n",
       "               cveID vendorProject          product  \\\n",
       " 155  CVE-2021-34527     Microsoft          Windows   \n",
       " 160   CVE-2020-1350     Microsoft          Windows   \n",
       " 184   CVE-2020-1472     Microsoft         Netlogon   \n",
       " 185  CVE-2021-26855     Microsoft  Exchange Server   \n",
       " 186  CVE-2021-26858     Microsoft  Exchange Server   \n",
       " \n",
       "                                      vulnerabilityName  dateAdded  \\\n",
       " 155  Microsoft Windows Print Spooler Remote Code Ex... 2021-11-03   \n",
       " 160  Microsoft Windows DNS Server Remote Code Execu... 2021-11-03   \n",
       " 184  Microsoft Netlogon Privilege Escalation Vulner... 2021-11-03   \n",
       " 185  Microsoft Exchange Server Remote Code Executio... 2021-11-03   \n",
       " 186  Microsoft Exchange Server Remote Code Executio... 2021-11-03   \n",
       " \n",
       "                                       shortDescription  \\\n",
       " 155  Microsoft Windows Print Spooler contains an un...   \n",
       " 160  Microsoft Windows DNS Servers fail to properly...   \n",
       " 184  Microsoft's Netlogon Remote Protocol (MS-NRPC)...   \n",
       " 185  Microsoft Exchange Server contains an unspecif...   \n",
       " 186  Microsoft Exchange Server contains an unspecif...   \n",
       " \n",
       "                              requiredAction    dueDate  \\\n",
       " 155  Apply updates per vendor instructions. 2021-07-20   \n",
       " 160  Apply updates per vendor instructions. 2020-07-24   \n",
       " 184  Apply updates per vendor instructions. 2020-09-21   \n",
       " 185  Apply updates per vendor instructions. 2021-04-16   \n",
       " 186  Apply updates per vendor instructions. 2021-04-16   \n",
       " \n",
       "     knownRansomwareCampaignUse  \\\n",
       " 155                      Known   \n",
       " 160                    Unknown   \n",
       " 184                      Known   \n",
       " 185                      Known   \n",
       " 186                      Known   \n",
       " \n",
       "                                                  notes  \n",
       " 155  Reference CISA's ED 21-04 (https://www.cisa.go...  \n",
       " 160  Reference CISA's ED 20-03 (https://www.cisa.go...  \n",
       " 184  Reference CISA's ED 20-03 (https://www.cisa.go...  \n",
       " 185  Reference CISA's ED 21-02 (https://www.cisa.go...  \n",
       " 186  Reference CISA's ED 21-02 (https://www.cisa.go...  )"
      ]
     },
     "execution_count": 10,
     "metadata": {},
     "output_type": "execute_result"
    }
   ],
   "source": [
    "data_types = data_cleaned.dtypes\n",
    "data_head = data_cleaned.head()\n",
    "\n",
    "data_types, data_head"
   ]
  },
  {
   "cell_type": "code",
   "execution_count": 11,
   "metadata": {},
   "outputs": [
    {
     "name": "stderr",
     "output_type": "stream",
     "text": [
      "/tmp/ipykernel_4778/1520964698.py:3: SettingWithCopyWarning: \n",
      "A value is trying to be set on a copy of a slice from a DataFrame.\n",
      "Try using .loc[row_indexer,col_indexer] = value instead\n",
      "\n",
      "See the caveats in the documentation: https://pandas.pydata.org/pandas-docs/stable/user_guide/indexing.html#returning-a-view-versus-a-copy\n",
      "  data_cleaned[string_columns] = data_cleaned[string_columns].fillna('')\n",
      "/tmp/ipykernel_4778/1520964698.py:17: SettingWithCopyWarning: \n",
      "A value is trying to be set on a copy of a slice from a DataFrame.\n",
      "Try using .loc[row_indexer,col_indexer] = value instead\n",
      "\n",
      "See the caveats in the documentation: https://pandas.pydata.org/pandas-docs/stable/user_guide/indexing.html#returning-a-view-versus-a-copy\n",
      "  data_cleaned[col] = pd.to_datetime(data_cleaned[col], errors='coerce')  # Coerce errors to NaT for invalid dates\n",
      "/tmp/ipykernel_4778/1520964698.py:17: SettingWithCopyWarning: \n",
      "A value is trying to be set on a copy of a slice from a DataFrame.\n",
      "Try using .loc[row_indexer,col_indexer] = value instead\n",
      "\n",
      "See the caveats in the documentation: https://pandas.pydata.org/pandas-docs/stable/user_guide/indexing.html#returning-a-view-versus-a-copy\n",
      "  data_cleaned[col] = pd.to_datetime(data_cleaned[col], errors='coerce')  # Coerce errors to NaT for invalid dates\n"
     ]
    },
    {
     "data": {
      "text/plain": [
       "(cveID                                 object\n",
       " vendorProject                         object\n",
       " product                               object\n",
       " vulnerabilityName                     object\n",
       " dateAdded                     datetime64[ns]\n",
       " shortDescription                      object\n",
       " requiredAction                        object\n",
       " dueDate                       datetime64[ns]\n",
       " knownRansomwareCampaignUse            object\n",
       " notes                                 object\n",
       " dtype: object,\n",
       "               cveID vendorProject          product  \\\n",
       " 155  CVE-2021-34527     Microsoft          Windows   \n",
       " 160   CVE-2020-1350     Microsoft          Windows   \n",
       " 184   CVE-2020-1472     Microsoft         Netlogon   \n",
       " 185  CVE-2021-26855     Microsoft  Exchange Server   \n",
       " 186  CVE-2021-26858     Microsoft  Exchange Server   \n",
       " \n",
       "                                      vulnerabilityName  dateAdded  \\\n",
       " 155  Microsoft Windows Print Spooler Remote Code Ex... 2021-11-03   \n",
       " 160  Microsoft Windows DNS Server Remote Code Execu... 2021-11-03   \n",
       " 184  Microsoft Netlogon Privilege Escalation Vulner... 2021-11-03   \n",
       " 185  Microsoft Exchange Server Remote Code Executio... 2021-11-03   \n",
       " 186  Microsoft Exchange Server Remote Code Executio... 2021-11-03   \n",
       " \n",
       "                                       shortDescription  \\\n",
       " 155  Microsoft Windows Print Spooler contains an un...   \n",
       " 160  Microsoft Windows DNS Servers fail to properly...   \n",
       " 184  Microsoft's Netlogon Remote Protocol (MS-NRPC)...   \n",
       " 185  Microsoft Exchange Server contains an unspecif...   \n",
       " 186  Microsoft Exchange Server contains an unspecif...   \n",
       " \n",
       "                              requiredAction    dueDate  \\\n",
       " 155  Apply updates per vendor instructions. 2021-07-20   \n",
       " 160  Apply updates per vendor instructions. 2020-07-24   \n",
       " 184  Apply updates per vendor instructions. 2020-09-21   \n",
       " 185  Apply updates per vendor instructions. 2021-04-16   \n",
       " 186  Apply updates per vendor instructions. 2021-04-16   \n",
       " \n",
       "     knownRansomwareCampaignUse  \\\n",
       " 155                      Known   \n",
       " 160                    Unknown   \n",
       " 184                      Known   \n",
       " 185                      Known   \n",
       " 186                      Known   \n",
       " \n",
       "                                                  notes  \n",
       " 155  Reference CISA's ED 21-04 (https://www.cisa.go...  \n",
       " 160  Reference CISA's ED 20-03 (https://www.cisa.go...  \n",
       " 184  Reference CISA's ED 20-03 (https://www.cisa.go...  \n",
       " 185  Reference CISA's ED 21-02 (https://www.cisa.go...  \n",
       " 186  Reference CISA's ED 21-02 (https://www.cisa.go...  )"
      ]
     },
     "execution_count": 11,
     "metadata": {},
     "output_type": "execute_result"
    }
   ],
   "source": [
    "\n",
    "\n",
    "\n",
    "# 2. Replace null values in string columns with an empty string\n",
    "string_columns = data_cleaned.select_dtypes(include=['object']).columns\n",
    "data_cleaned[string_columns] = data_cleaned[string_columns].fillna('')\n",
    "\n",
    "# 3. Ensure that numeric columns are of numeric type\n",
    "\n",
    "for col in data_cleaned.columns:\n",
    "    if data_cleaned[col].dtype == 'object':\n",
    "        try:\n",
    "            data_cleaned[col] = pd.to_numeric(data_cleaned[col])\n",
    "        except ValueError:\n",
    "            pass  # Column cannot be converted to numeric, likely it's correctly identified as a string.\n",
    "\n",
    "# 4. Convert date columns to datetime objects\n",
    "date_columns = ['dateAdded', 'dueDate']\n",
    "for col in date_columns:\n",
    "    data_cleaned[col] = pd.to_datetime(data_cleaned[col], errors='coerce')  # Coerce errors to NaT for invalid dates\n",
    "\n",
    "# After cleaning, let's display the types of the columns and a few rows to verify changes\n",
    "data_types = data_cleaned.dtypes\n",
    "data_head = data_cleaned.head()\n",
    "\n",
    "data_types, data_head"
   ]
  },
  {
   "cell_type": "code",
   "execution_count": null,
   "metadata": {},
   "outputs": [],
   "source": [
    "# Let's read the newly uploaded CSV file to understand its structure and contents\n",
    "data_path_new = '/mnt/data/output_file1.csv'\n",
    "data_new = pd.read_csv(data_path_new)\n",
    "\n",
    "# Display the first few rows of the new dataframe to understand its structure and contents\n",
    "data_new.head()"
   ]
  },
  {
   "cell_type": "code",
   "execution_count": null,
   "metadata": {},
   "outputs": [],
   "source": [
    "# Normalize the new dataset, including common tasks such as handling null values and ensuring correct data types.\n",
    "\n",
    "# 1. Remove rows with all null values\n",
    "data_new_cleaned = data_new.dropna(how='all')\n",
    "\n",
    "# 2. Replace null values in any columns with appropriate defaults or empty strings\n",
    "# Since the dataset is straightforward, we'll check for nulls and decide on replacement based on column type\n",
    "data_new_cleaned = data_new_cleaned.fillna({\n",
    "    'endpoint_id': 'unknown',  # Replace nulls in 'endpoint_id' with 'unknown'\n",
    "    'cveId': 'unknown',         # Replace nulls in 'cveId' with 'unknown'\n",
    "    'time': 0,                  # Replace nulls in 'time' with 0, assuming 0 as the default time\n",
    "    'state': 'unknown'          # Replace nulls in 'state' with 'unknown'\n",
    "})\n",
    "\n",
    "# 3. Ensure data types are correct\n",
    "# 'endpoint_id' and 'cveId' are expected to be strings, 'time' should be numeric, and 'state' should be a string\n",
    "data_new_cleaned['endpoint_id'] = data_new_cleaned['endpoint_id'].astype(str)\n",
    "data_new_cleaned['cveId'] = data_new_cleaned['cveId'].astype(str)\n",
    "data_new_cleaned['time'] = pd.to_numeric(data_new_cleaned['time'], errors='coerce')  # Convert 'time' to numeric, coercing any errors\n",
    "data_new_cleaned['state'] = data_new_cleaned['state'].astype(str)\n",
    "\n",
    "# After cleaning, let's display the types of the columns and a few rows to verify changes\n",
    "data_new_types = data_new_cleaned.dtypes\n",
    "data_new_head = data_new_cleaned.head()\n",
    "\n",
    "data_new_types, data_new_head\n"
   ]
  },
  {
   "cell_type": "code",
   "execution_count": null,
   "metadata": {},
   "outputs": [],
   "source": [
    "# To create a unique ID based on a combination of 'time', 'cveId', and 'endpoint_id',\n",
    "# we can concatenate these fields with a separator to ensure uniqueness.\n",
    "\n",
    "# Concatenate the fields to create a unique ID for each row\n",
    "data_new_cleaned['unique_id'] = data_new_cleaned['time'].astype(str) + \"_\" + data_new_cleaned['cveId'] + \"_\" + data_new_cleaned['endpoint_id']\n",
    "\n",
    "# Display the first few rows to verify the creation of the unique ID\n",
    "data_new_head_with_id = data_new_cleaned.head()\n",
    "\n",
    "data_new_head_with_id"
   ]
  }
 ],
 "metadata": {
  "kernelspec": {
   "display_name": "Python 3",
   "language": "python",
   "name": "python3"
  },
  "language_info": {
   "codemirror_mode": {
    "name": "ipython",
    "version": 3
   },
   "file_extension": ".py",
   "mimetype": "text/x-python",
   "name": "python",
   "nbconvert_exporter": "python",
   "pygments_lexer": "ipython3",
   "version": "3.10.13"
  }
 },
 "nbformat": 4,
 "nbformat_minor": 2
}
